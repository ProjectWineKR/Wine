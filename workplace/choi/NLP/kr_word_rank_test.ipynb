{
 "metadata": {
  "language_info": {
   "codemirror_mode": {
    "name": "ipython",
    "version": 3
   },
   "file_extension": ".py",
   "mimetype": "text/x-python",
   "name": "python",
   "nbconvert_exporter": "python",
   "pygments_lexer": "ipython3",
   "version": "3.8.2-final"
  },
  "orig_nbformat": 2,
  "kernelspec": {
   "name": "python3",
   "display_name": "Python 3.8.2 64-bit",
   "metadata": {
    "interpreter": {
     "hash": "31f2aee4e71d21fbe5cf8b01ff0e069b9275f58929596ceb00d14d90e3e16cd6"
    }
   }
  }
 },
 "nbformat": 4,
 "nbformat_minor": 2,
 "cells": [
  {
   "source": [
    "#### reference\n",
    "- https://github.com/sanglee325/kr-wordrank"
   ],
   "cell_type": "markdown",
   "metadata": {}
  },
  {
   "cell_type": "code",
   "execution_count": 2,
   "metadata": {},
   "outputs": [],
   "source": [
    "import pandas as pd\n",
    "from krwordrank.word import KRWordRank"
   ]
  },
  {
   "cell_type": "code",
   "execution_count": 3,
   "metadata": {},
   "outputs": [],
   "source": [
    "from krwordrank.word import KRWordRank\n",
    "from krwordrank.hangle import normalize"
   ]
  },
  {
   "cell_type": "code",
   "execution_count": 22,
   "metadata": {},
   "outputs": [
    {
     "output_type": "stream",
     "name": "stdout",
     "text": [
      "Index(['data'], dtype='object')\n"
     ]
    }
   ],
   "source": [
    "test = './test.txt'\n",
    "test = pd.read_csv(test,delimiter='\\t')\n",
    "print(test.columns)"
   ]
  },
  {
   "cell_type": "code",
   "execution_count": 23,
   "metadata": {},
   "outputs": [
    {
     "output_type": "execute_result",
     "data": {
      "text/plain": [
       "                                                data\n",
       "0  2003년 중화권에서 인명피해를 냈던 중증 급성 호흡기 증후군인 사스와 유사한 증상...\n",
       "1  2020년 1월 7일, CCTV는 우한에서 원인미상의 폐렴을 일으키는 이 병원체는 ...\n",
       "2  바이러스 발원지로 여겨지는 화난수산시장(우한 시장)은 이름은 수산물시장이나 실제로는...\n",
       "3  중국 밖에서 발생한 첫 번째 사망은 필리핀이다.[18] 필리핀에서는 코로나바이러스를...\n",
       "4  감염된 사람들은 무증상이거나 열, 마른기침, 호흡 곤란, 설사, 인후통 등과 같이 ...\n",
       "5  바이러스가 만들어진 원인 중 박쥐와 뱀이 가장 유력하다는 가능성이 제기됐다. 23일...\n",
       "6  신종 코로나바이러스(COVID-19)에 대한 상세한 게놈 분석 결과가 2020년 1...\n",
       "7  리강(李剛) 우한시 질병예방통제센터 주임이 중국 CCTV 인터뷰에서 \"신종 코로나바...\n",
       "8  2020년 1월 23일, 우한에서 확산된 신종 폐렴 환자 치료 과정에서 해당 폐렴에...\n",
       "9   기초감염재생산수(R0)는 환자 한 사람이 몇명에게 직접 전염병을 옮기는지를 나타내..."
      ],
      "text/html": "<div>\n<style scoped>\n    .dataframe tbody tr th:only-of-type {\n        vertical-align: middle;\n    }\n\n    .dataframe tbody tr th {\n        vertical-align: top;\n    }\n\n    .dataframe thead th {\n        text-align: right;\n    }\n</style>\n<table border=\"1\" class=\"dataframe\">\n  <thead>\n    <tr style=\"text-align: right;\">\n      <th></th>\n      <th>data</th>\n    </tr>\n  </thead>\n  <tbody>\n    <tr>\n      <th>0</th>\n      <td>2003년 중화권에서 인명피해를 냈던 중증 급성 호흡기 증후군인 사스와 유사한 증상...</td>\n    </tr>\n    <tr>\n      <th>1</th>\n      <td>2020년 1월 7일, CCTV는 우한에서 원인미상의 폐렴을 일으키는 이 병원체는 ...</td>\n    </tr>\n    <tr>\n      <th>2</th>\n      <td>바이러스 발원지로 여겨지는 화난수산시장(우한 시장)은 이름은 수산물시장이나 실제로는...</td>\n    </tr>\n    <tr>\n      <th>3</th>\n      <td>중국 밖에서 발생한 첫 번째 사망은 필리핀이다.[18] 필리핀에서는 코로나바이러스를...</td>\n    </tr>\n    <tr>\n      <th>4</th>\n      <td>감염된 사람들은 무증상이거나 열, 마른기침, 호흡 곤란, 설사, 인후통 등과 같이 ...</td>\n    </tr>\n    <tr>\n      <th>5</th>\n      <td>바이러스가 만들어진 원인 중 박쥐와 뱀이 가장 유력하다는 가능성이 제기됐다. 23일...</td>\n    </tr>\n    <tr>\n      <th>6</th>\n      <td>신종 코로나바이러스(COVID-19)에 대한 상세한 게놈 분석 결과가 2020년 1...</td>\n    </tr>\n    <tr>\n      <th>7</th>\n      <td>리강(李剛) 우한시 질병예방통제센터 주임이 중국 CCTV 인터뷰에서 \"신종 코로나바...</td>\n    </tr>\n    <tr>\n      <th>8</th>\n      <td>2020년 1월 23일, 우한에서 확산된 신종 폐렴 환자 치료 과정에서 해당 폐렴에...</td>\n    </tr>\n    <tr>\n      <th>9</th>\n      <td>기초감염재생산수(R0)는 환자 한 사람이 몇명에게 직접 전염병을 옮기는지를 나타내...</td>\n    </tr>\n  </tbody>\n</table>\n</div>"
     },
     "metadata": {},
     "execution_count": 23
    }
   ],
   "source": [
    "test"
   ]
  },
  {
   "cell_type": "code",
   "execution_count": 25,
   "metadata": {},
   "outputs": [
    {
     "output_type": "stream",
     "name": "stdout",
     "text": [
      "['2003년 중화권에서 인명피해를 냈던 중증 급성 호흡기 증후군인 사스와 유사한 증상을 보이는 환자 7명이 발생했다 라는 병원 문건을 얻게 된 중국 우한시중심병원 의사 리원량은 감염 확산 가능성을 우려하였고 2019년 12월 30일 동료 의사 7명과 함께 소셜 미디어 를 통해 위험 상황을 알리고 널리 전파하려 하였다 그러나 중국 당국으로부터 허위 정보를 퍼트려 민심을 불안하게 만들고 있다 며 관련 사실을 계속 유포할 경우 체포당할 수 있다 는 통보를 받고 리씨를 포함해 동료 의사 등 8명이 공안국에 소환돼 잘못을 인정하는 자술서를 쓰고 서명을 하였다 중국 당국은 2020년 1월 말에 이들에게 사과하였다 리원량은 병원에서 환자들을 돌보다 1월 8일 발열 증상으로 정밀검사를 거쳐 2월 1일 확진 판정을 받고 입원 치료 중 2월 6일 병세가 급격히 악화되어 7일 오전에 사망했다 우한시중심병원은 의사 리원량씨가 이날 2월 7일 오전 2시 58분쯤 사망했다 고 밝히면서 리원량이 신종 코로나 바이러스의 확산과 싸우다 불행히도 감염됐다 며 우리는 매우 유감스럽게 생각하며 애도한다 고 했다 세계 보건 기구 도 트위터를 통해 애도의 뜻을 밝혔다', '2020년 1월 7일 는 우한에서 원인미상의 폐렴을 일으키는 이 병원체는 새로운 종류의 코로나바이러스라고 밝혔다 이 바이러스의 완전한 염기서열은 상하이공공위생임상센터 우한중심의원 화중과기대학교 우한시질병예방공제센터 시드니 대학 등의 협력에 의해 해독되어 시드니 대학의 에드워드 홈즈 교수의 협력 아래 상하이공공위생임상센터의 장융전 교수에 의해 2020년 1월 11일 에서 공개되었다 8 9 그 후 14일에는 국제핵산배열 데이터베이스 에 정식으로 공개되었다 10 홍콩대학 미생물학과 감염증 전공 윈궉융 교수의 보고에 따르면 이 바이러스와 다른 종의 코로나바이러스와 비교하면 중국 저장성 저우산시 박쥐에서 발견된 바이러스와 가장 가깝고 박쥐 바이러스 인간 바이러스 사향고양이 바이러스와도 80 가까이 유사성을 보인다', '바이러스 발원지로 여겨지는 화난수산시장 우한 시장 은 이름은 수산물시장이나 실제로는 다양한 야생동물도 처리 및 거래되고 있어서 대나무쥐나 오소리 등의 야생동물이 감염원일 가능성도 높은 것으로 알려져 있다 2019 감염의 첫 41건의 확인된 사례 중 2 3가 살아있는 동물을 판매한 우한화난수산물도매시장과 관련이 있는 것으로 밝혀졌다 이 바이러스는 2020년 1월 초와 중순에 중국 춘절을 통해 다른 중국 지방으로 퍼졌다 1월 20일 중국은 베이징시에 2명 선전시에 1명을 포함하여 약 140명의 새로운 환자가 급격히 증가했다고 보고 했다']\n"
     ]
    }
   ],
   "source": [
    "texts = test.data\n",
    "texts = [normalize(text,english=False,number=True) for text in texts]\n",
    "print(texts[:3])"
   ]
  },
  {
   "cell_type": "code",
   "execution_count": 26,
   "metadata": {},
   "outputs": [
    {
     "output_type": "stream",
     "name": "stdout",
     "text": [
      "scan vocabs ... \n",
      "num vocabs = 163\n",
      "done\n",
      "      신종:\t4.4871\n",
      "      중국:\t2.7724\n",
      "      1월:\t2.5560\n",
      "     밝혔다:\t2.2424\n",
      "      폐렴:\t1.7474\n",
      "      사스:\t1.5783\n",
      "    코로나바:\t1.4745\n",
      "     것으로:\t1.4463\n",
      "      확산:\t1.3884\n",
      "      박쥐:\t1.3742\n"
     ]
    }
   ],
   "source": [
    "from krwordrank.sentence import summarize_with_sentences\n",
    "\n",
    "stopword= {'로코나','병원','바이러스','감염'}\n",
    "\n",
    "keywords,sents = summarize_with_sentences(\n",
    "    texts,\n",
    "    stopwords = stopword,\n",
    "    diversity=0.5,\n",
    "    num_keywords=10,\n",
    "    num_keysents=10,\n",
    "    verbose=True\n",
    ")\n",
    "\n",
    "for word,r in sorted(keywords.items(), key=lambda x:x[1], reverse=True)[:30]:\n",
    "    print('%8s:\\t%.4f'%(word,r))"
   ]
  },
  {
   "cell_type": "code",
   "execution_count": 28,
   "metadata": {},
   "outputs": [
    {
     "output_type": "stream",
     "name": "stdout",
     "text": [
      "scan vocabs ... \n",
      "num vocabs = 585\n",
      "done\n",
      "      신종:\t6.0512\n",
      "      중국:\t5.7641\n",
      "    바이러스:\t4.6448\n",
      "     밝혔다:\t4.5729\n",
      "      사스:\t4.5725\n",
      "      1월:\t4.0275\n",
      "     것으로:\t3.0135\n",
      "      연구:\t2.6187\n",
      "     코로나:\t2.4431\n",
      "      있다:\t2.2444\n",
      "      폐렴:\t2.2341\n",
      "      환자:\t2.0989\n",
      "      우한:\t2.0827\n",
      "     시드니:\t2.0542\n",
      "      20:\t2.0274\n",
      "      감염:\t2.0225\n",
      "      직접:\t1.9493\n",
      "      확산:\t1.8820\n",
      "      등의:\t1.8775\n",
      "      2의:\t1.8675\n",
      "     완전한:\t1.8242\n",
      "      전염:\t1.8025\n",
      "      의사:\t1.7969\n",
      "      박쥐:\t1.7496\n",
      "     발견된:\t1.6791\n",
      "      가장:\t1.6201\n",
      "    당단백질:\t1.6078\n",
      "      국제:\t1.4385\n",
      "      7일:\t1.3971\n",
      "     내에서:\t1.3798\n"
     ]
    }
   ],
   "source": [
    "wordrank_extractor = KRWordRank(\n",
    "    min_count=2,\n",
    "    max_length=10,\n",
    "    verbose=True\n",
    ")\n",
    "\n",
    "beta = 0.85\n",
    "max_iter=10\n",
    "\n",
    "keywords,rank,graph = wordrank_extractor.extract(texts,beta,max_iter)\n",
    "\n",
    "for word,r in sorted(keywords.items(), key=lambda x:x[1], reverse=True)[:30]:\n",
    "    print('%8s:\\t%.4f'%(word,r))"
   ]
  },
  {
   "cell_type": "code",
   "execution_count": null,
   "metadata": {},
   "outputs": [],
   "source": []
  }
 ]
}