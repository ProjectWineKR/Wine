{
 "metadata": {
  "language_info": {
   "codemirror_mode": {
    "name": "ipython",
    "version": 3
   },
   "file_extension": ".py",
   "mimetype": "text/x-python",
   "name": "python",
   "nbconvert_exporter": "python",
   "pygments_lexer": "ipython3",
   "version": 3
  },
  "orig_nbformat": 2
 },
 "nbformat": 4,
 "nbformat_minor": 2,
 "cells": [
  {
   "cell_type": "code",
   "execution_count": null,
   "metadata": {},
   "outputs": [],
   "source": [
    "{\n",
    "    product_id_1 : {'name' : \"teat wine name\",\n",
    "                   'year' : 1987,\n",
    "                   'category_1' : 'cat1',\n",
    "                   'category_2' : 'cat2',\n",
    "                   'keyword_sentiment': {\n",
    "                                          'price' : ['좋은' : {positive_count : 1, negative_count : 10,neu_count : 3, rank_index : 4.11234},\n",
    "                                                      '가성비' : {positive_count : 20, negative_count : 4,neu_count : 0, rank_index : 3.432},\n",
    "                                                      ... ],\n",
    "                                          'taste' : ['떫음' : {positive_count : 1, negative_count : 10,neu_count : 3, rank_index : 4.11234},\n",
    "                                                      '달달함' : {positive_count : 20, negative_count : 4,neu_count : 0, rank_index : 3.432},\n",
    "                                                      ... ]  \n",
    "                                            }\n",
    "                   \n",
    "                   },\n",
    "\n",
    "    product_id_2 : {'name' : \"teat wine name\",\n",
    "                   'year' : 1998,\n",
    "                   'category_1' : 'cat1',\n",
    "                   'category_2' : 'cat2',\n",
    "                   'keyword_sentiment': {\n",
    "                                          'price' : ['좋은' : {positive_count : 1, negative_count : 10,neu_count : 3, rank_index : 4.11234},\n",
    "                                                      '가성비' : {positive_count : 20, negative_count : 4,neu_count : 0, rank_index : 3.432},\n",
    "                                                      ... ],\n",
    "                                          'taste' : ['떫음' : {positive_count : 1, negative_count : 10,neu_count : 3, rank_index : 4.11234},\n",
    "                                                      '달달함' : {positive_count : 20, negative_count : 4,neu_count : 0, rank_index : 3.432},\n",
    "                                                      ... ]  \n",
    "                                            }\n",
    "                   \n",
    "                   }\n",
    "\n",
    "    ...\n",
    "\n",
    "\n",
    "}"
   ]
  }
 ]
}